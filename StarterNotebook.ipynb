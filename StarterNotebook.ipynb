{
 "cells": [
  {
   "cell_type": "markdown",
   "id": "342690de",
   "metadata": {},
   "source": [
    "## Programming Questions"
   ]
  },
  {
   "cell_type": "markdown",
   "id": "e4baf4dc",
   "metadata": {},
   "source": [
    "1. Write a program that asks for the user’s name and returns “Hello, {name}” to the screen."
   ]
  },
  {
   "cell_type": "code",
   "execution_count": 222,
   "id": "7ed5ccb9",
   "metadata": {},
   "outputs": [
    {
     "name": "stdout",
     "output_type": "stream",
     "text": [
      "Please enter your name: hello\n",
      "Hello, hello!\n"
     ]
    }
   ],
   "source": [
    "def print_name():\n",
    "    name = input(\"Please enter your name: \")\n",
    "    if not name:\n",
    "        name = 'Guest'\n",
    "    print(f\"Hello, {name}!\")\n",
    "print_name()\n"
   ]
  },
  {
   "cell_type": "markdown",
   "id": "18aa6abc",
   "metadata": {},
   "source": [
    "2. Write a program to compute the sum of the ASCII values of the upper-case characters in a given string."
   ]
  },
  {
   "cell_type": "code",
   "execution_count": 221,
   "id": "71880613",
   "metadata": {},
   "outputs": [
    {
     "data": {
      "text/plain": [
       "135"
      ]
     },
     "execution_count": 221,
     "metadata": {},
     "output_type": "execute_result"
    }
   ],
   "source": [
    "#!/usr/bin/env python\n",
    "\n",
    "def sum_capital_ascii(s):    \n",
    "    import string\n",
    "    ascii_sum = 0\n",
    "    for char in list(s):\n",
    "        if char in string.ascii_uppercase:\n",
    "            ascii_sum += ord(char)\n",
    "    return ascii_sum\n",
    "sum_capital_ascii('142ljFA')\n",
    "        "
   ]
  },
  {
   "cell_type": "markdown",
   "id": "7371ad99",
   "metadata": {},
   "source": [
    "\n",
    "3. Write a program that returns the most popular movies on iMDb (https://www.imdb.com/chart/moviemeter/ ). It should only have the program name, year, and rating."
   ]
  },
  {
   "cell_type": "code",
   "execution_count": 224,
   "id": "41d9e55e",
   "metadata": {},
   "outputs": [],
   "source": [
    "#!/usr/bin/env python\n",
    "\n",
    "import lxml.html as html\n",
    "import requests\n",
    "import re\n",
    "\n",
    "url = 'https://www.imdb.com/chart/moviemeter/'\n",
    "page = requests.get(url)\n",
    "content = html.fromstring(page.content)\n",
    "\n",
    "# Pull correct table by class\n",
    "tr_elements = content.xpath(\"//tbody[@class='lister-list']//tr\")\n",
    "\n",
    "def extract_title(title_eles):\n",
    "    if not title_eles:\n",
    "        return 'NULL'\n",
    "    return title_eles[0]\n",
    "def extract_year(year_eles):\n",
    "    if not year_eles:\n",
    "        return 'NULL'\n",
    "    year_string = year_eles[0]\n",
    "    if re.fullmatch('\\(([0-9])+\\)',year_string):\n",
    "        return year_string[1:-1]\n",
    "    return 'NULL'\n",
    "\n",
    "def extract_rating(rating_eles):\n",
    "    if not rating_eles:\n",
    "        return 'NULL'\n",
    "    rating = rating_eles[0]\n",
    "    return rating\n",
    "\n",
    "row_dict = {\n",
    "    'title' : ['title'],\n",
    "    'year' : ['year'],\n",
    "    'rating': ['rating'],\n",
    "}\n",
    "# Iterate through every row in table, besides header row\n",
    "for row in range(0, len(tr_elements)):\n",
    "    title_eles = tr_elements[row].xpath(\".//td[@class='titleColumn']//a/text()\")\n",
    "    row_dict['title'].append(extract_title(title_eles))\n",
    "    \n",
    "    year_ele = tr_elements[row].xpath(\".//td[@class='titleColumn']//span/text()\")\n",
    "    row_dict['year'].append(extract_year(year_ele))\n",
    "\n",
    "    rating_ele = tr_elements[row].xpath(\".//td[@class='ratingColumn imdbRating']//strong/text()\")\n",
    "    row_dict['rating'].append(extract_rating(rating_ele))\n",
    "\n",
    "# Write to file\n",
    "with open('output.txt','w') as f:\n",
    "    for i in range(len(tr_elements)-1):\n",
    "        f.write(row_dict['title'][i] + \",\" +  row_dict['year'][i] + \",\" + row_dict['rating'][i] + \"\\n\")"
   ]
  },
  {
   "cell_type": "code",
   "execution_count": null,
   "id": "92385c40",
   "metadata": {},
   "outputs": [],
   "source": []
  }
 ],
 "metadata": {
  "kernelspec": {
   "display_name": "Python 3 (ipykernel)",
   "language": "python",
   "name": "python3"
  },
  "language_info": {
   "codemirror_mode": {
    "name": "ipython",
    "version": 3
   },
   "file_extension": ".py",
   "mimetype": "text/x-python",
   "name": "python",
   "nbconvert_exporter": "python",
   "pygments_lexer": "ipython3",
   "version": "3.7.6"
  }
 },
 "nbformat": 4,
 "nbformat_minor": 5
}
