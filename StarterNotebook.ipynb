{
 "cells": [
  {
   "cell_type": "markdown",
   "id": "01230010",
   "metadata": {},
   "source": [
    "## Programming Questions\n",
    "Please provide code snippets in the language of your preference.\n",
    "1. Write a program that asks for the user’s name and returns “Hello, {name}” to the screen.\n",
    "\n",
    "2. Write a program to compute the sum of the ASCII values of the upper-case characters in a given\n",
    "string.\n",
    "\n",
    "3. Write a program that returns the most popular movies on iMDb\n",
    "(https://www.imdb.com/chart/moviemeter/ ). It should only have the program name, year, and\n",
    "rating."
   ]
  },
  {
   "cell_type": "code",
   "execution_count": 173,
   "id": "8ca6d23e",
   "metadata": {},
   "outputs": [],
   "source": [
    "import lxml.html as html\n",
    "import requests\n",
    "import re"
   ]
  },
  {
   "cell_type": "code",
   "execution_count": 8,
   "id": "70e9de19",
   "metadata": {},
   "outputs": [],
   "source": [
    "url = 'https://www.imdb.com/chart/moviemeter/'\n",
    "page = requests.get(url)\n"
   ]
  },
  {
   "cell_type": "code",
   "execution_count": 9,
   "id": "088e42da",
   "metadata": {},
   "outputs": [],
   "source": [
    "content = html.fromstring(page.content)"
   ]
  },
  {
   "cell_type": "code",
   "execution_count": 98,
   "id": "38289c27",
   "metadata": {},
   "outputs": [],
   "source": [
    "tr_elements = content.xpath(\"//tbody[@class='lister-list']//tr\")"
   ]
  },
  {
   "cell_type": "code",
   "execution_count": null,
   "id": "a9f04110",
   "metadata": {},
   "outputs": [],
   "source": [
    "desired_columns = []"
   ]
  },
  {
   "cell_type": "code",
   "execution_count": 183,
   "id": "85839e8b",
   "metadata": {},
   "outputs": [
    {
     "data": {
      "text/plain": [
       "<re.Match object; span=(0, 6), match='234234'>"
      ]
     },
     "execution_count": 183,
     "metadata": {},
     "output_type": "execute_result"
    }
   ],
   "source": []
  },
  {
   "cell_type": "code",
   "execution_count": 165,
   "id": "c431b0f2",
   "metadata": {
    "scrolled": true
   },
   "outputs": [
    {
     "data": {
      "text/plain": [
       "'(2021)'"
      ]
     },
     "execution_count": 165,
     "metadata": {},
     "output_type": "execute_result"
    }
   ],
   "source": [
    "tr_elements[3].xpath(\".//td[@class='titleColumn']//span/text()\")[0]"
   ]
  },
  {
   "cell_type": "code",
   "execution_count": 198,
   "id": "6e6f9758",
   "metadata": {},
   "outputs": [],
   "source": [
    "def extract_title(title_eles):\n",
    "    if not title_eles:\n",
    "        return 'NULL'\n",
    "    return title_eles[0]\n",
    "def extract_year(year_eles):\n",
    "    if not year_eles:\n",
    "        return 'NULL'\n",
    "    year_string = year_eles[0]\n",
    "    if re.fullmatch('\\(([0-9])+\\)',year_string):\n",
    "        return year_string[1:-1]\n",
    "    return 'NULL'\n",
    "\n",
    "def extract_rating(rating_eles):\n",
    "    if not rating_eles:\n",
    "        return 'NULL'\n",
    "    rating = rating_eles[0]\n",
    "    return rating"
   ]
  },
  {
   "cell_type": "code",
   "execution_count": 199,
   "id": "4d920b60",
   "metadata": {
    "scrolled": true
   },
   "outputs": [
    {
     "name": "stdout",
     "output_type": "stream",
     "text": [
      "The King's Man,2021,6.4\n",
      "Bullet Train,2022,NULL\n",
      "West Side Story,2021,7.5\n",
      "Free Guy,2021,7.2\n",
      "Uncharted,2022,6.7\n",
      "Spider-Man: No Way Home,2021,8.7\n",
      "No Exit,2022,6.1\n",
      "Licorice Pizza,2021,7.5\n",
      "Tyler Perry's A Madea Homecoming,2022,5.8\n",
      "The Power of the Dog,2021,6.9\n",
      "Fresh,2022,6.7\n",
      "Encanto,2021,7.3\n",
      "Death on the Nile,2022,6.6\n",
      "Against the Ice,2022,6.5\n",
      "Scream,2022,6.5\n",
      "The Weekend Away,2022,5.6\n",
      "The French Dispatch,2021,7.2\n",
      "Nightmare Alley,2021,7.1\n",
      "Morbius,2022,NULL\n",
      "CODA,2021,8.0\n",
      "Texas Chainsaw Massacre,2022,4.8\n",
      "Fantastic Beasts: The Secrets of Dumbledore,2022,NULL\n",
      "The Dark Knight,2008,9.1\n",
      "House of Gucci,2021,6.7\n",
      "Blacklight,2022,4.7\n",
      "Belfast,2021,7.3\n",
      "Don't Look Up,2021,7.2\n",
      "Doctor Strange in the Multiverse of Madness,2022,NULL\n",
      "Dune,2021,8.1\n",
      "Eternals,2021,6.4\n",
      "Dog,2022,6.7\n",
      "Sing 2,2021,7.5\n",
      "Ghostbusters: Afterlife,2021,7.2\n",
      "The Adam Project,2022,6.9\n",
      "Gangubai Kathiawadi,2022,7.0\n",
      "Studio 666,2022,6.1\n",
      "Restless,2022,5.7\n",
      "Barb Wire,1996,3.4\n",
      "Drive My Car,2021,7.7\n",
      "The Godfather,1972,9.2\n",
      "Knives Out,2019,7.9\n",
      "The Bubble,2022,NULL\n",
      "West Side Story,1961,7.6\n",
      "Cyrano,2021,6.3\n",
      "Marry Me,2022,6.1\n",
      "The Worst Person in the World,2021,7.9\n",
      "X,2022,NULL\n",
      "No Time to Die,2021,7.3\n",
      "The Desperate Hour,2021,4.5\n",
      "The Last Duel,2021,7.4\n",
      "The Lost City,2022,NULL\n",
      "The Bad Guys,2022,NULL\n",
      "Kingsman: The Secret Service,2014,7.7\n",
      "Kimi,2022,6.3\n",
      "365 Days,2020,3.4\n",
      "The Suicide Squad,2021,7.2\n",
      "Batman Begins,2005,8.3\n",
      "Umma,2022,NULL\n",
      "Jackass Forever,2022,7.5\n",
      "The Tinder Swindler,2022,7.2\n",
      "tick, tick...BOOM!,2021,7.5\n",
      "The 355,2022,5.2\n",
      "Turning Red,2022,7.2\n",
      "King Richard,2021,7.5\n",
      "The Lost Daughter,2021,6.7\n",
      "I Want You Back,2022,6.6\n",
      "Spencer,2021,6.7\n",
      "The Dark Knight Rises,2012,8.4\n",
      "After Yang,2021,6.7\n",
      "The Shawshank Redemption,1994,9.3\n",
      "A Day to Die,2022,4.9\n",
      "Avengers: Endgame,2019,8.4\n",
      "The Matrix Resurrections,2021,5.7\n",
      "A Thursday,2022,8.3\n",
      "Joker,2019,8.4\n",
      "300,2006,7.6\n",
      "Big Gold Brick,2022,3.3\n",
      "Old,2021,5.8\n",
      "Nobody,2021,7.4\n",
      "Last Night in Soho,2021,7.1\n",
      "Elvis,2022,NULL\n",
      "Nope,2022,NULL\n",
      "Moonfall,2022,5.3\n",
      "Batman,1989,7.5\n",
      "Winter on Fire: Ukraine's Fight for Freedom,2015,8.3\n",
      "Thor: Love and Thunder,2022,NULL\n",
      "Redeeming Love,2022,6.7\n",
      "The Eyes of Tammy Faye,2021,6.7\n",
      "Indiana Jones 5,2023,NULL\n",
      "The Texas Chain Saw Massacre,1974,7.5\n",
      "Kingsman: The Golden Circle,2017,6.7\n",
      "Shang-Chi and the Legend of the Ten Rings,2021,7.5\n",
      "Interstellar,2014,8.7\n",
      "The Flash,2023,NULL\n",
      "Venom: Let There Be Carnage,2021,6.0\n",
      "Killers of the Flower Moon,2022,NULL\n",
      "Jurassic World Dominion,2022,NULL\n",
      "Antlers,2021,5.9\n",
      "Home Team,2022,6.0\n"
     ]
    }
   ],
   "source": [
    "row_dict = {\n",
    "    'title' : [],\n",
    "    'year' : [],\n",
    "    'rating': [],\n",
    "}\n",
    "\n",
    "for row in range(1, len(tr_elements)):\n",
    "    title_eles = tr_elements[row].xpath(\".//td[@class='titleColumn']//a/text()\")\n",
    "    row_dict['title'].append(extract_title(title_eles))\n",
    "    \n",
    "    year_ele = tr_elements[row].xpath(\".//td[@class='titleColumn']//span/text()\")\n",
    "    row_dict['year'].append(extract_year(year_ele))\n",
    "\n",
    "    rating_ele = tr_elements[row].xpath(\".//td[@class='ratingColumn imdbRating']//strong/text()\")\n",
    "    row_dict['rating'].append(extract_rating(rating_ele))\n",
    "\n",
    "for i in range(len(tr_elements)-1):\n",
    "    print(row_dict['title'][i] + \",\" +  row_dict['year'][i] + \",\" + row_dict['rating'][i])\n",
    "\n"
   ]
  },
  {
   "cell_type": "code",
   "execution_count": 202,
   "id": "c7b2a1b9",
   "metadata": {},
   "outputs": [],
   "source": [
    "with open('output.txt','w') as f:\n",
    "    for i in range(len(tr_elements)-1):\n",
    "        f.write(row_dict['title'][i] + \",\" +  row_dict['year'][i] + \",\" + row_dict['rating'][i] + \"\\n\")"
   ]
  },
  {
   "cell_type": "code",
   "execution_count": null,
   "id": "2ed138eb",
   "metadata": {},
   "outputs": [],
   "source": []
  }
 ],
 "metadata": {
  "kernelspec": {
   "display_name": "Python 3 (ipykernel)",
   "language": "python",
   "name": "python3"
  },
  "language_info": {
   "codemirror_mode": {
    "name": "ipython",
    "version": 3
   },
   "file_extension": ".py",
   "mimetype": "text/x-python",
   "name": "python",
   "nbconvert_exporter": "python",
   "pygments_lexer": "ipython3",
   "version": "3.7.6"
  }
 },
 "nbformat": 4,
 "nbformat_minor": 5
}
